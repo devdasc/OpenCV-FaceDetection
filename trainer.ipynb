{
 "cells": [
  {
   "cell_type": "code",
   "execution_count": 2,
   "metadata": {},
   "outputs": [
    {
     "name": "stdout",
     "output_type": "stream",
     "text": [
      "111111111111111111111111111111111111111111111111111111111111111111111111111111111111111111111111111113333333333333333333333333333333333333333333333333333333333333333333333333333333333444444444444444444444444444444444444444444444444444444444444444444444444444444444444444444444444444447777777777777777777788888888888888888888899999999999999999999999999999999999999999999999999999999999999999999999999999999999999999999999999999"
     ]
    }
   ],
   "source": [
    "%config IMCompleter.greedy=True\n",
    "import os\n",
    "import cv2\n",
    "import numpy as np\n",
    "from PIL import Image\n",
    "\n",
    "recognizer = cv2.face.createLBPHFaceRecognizer()\n",
    "path = 'dataSet'\n",
    "\n",
    "def getImageWithId(path):# gets the path to the datasets and list in an array\n",
    "    imagePaths = [os.path.join(path,f) for f in os.listdir(path)]\n",
    "    #print (imagePaths)\n",
    "    faces = []\n",
    "    IDs = []\n",
    "    for imagePath in imagePaths:\n",
    "        faceImg = Image.open(imagePath).convert('L')\n",
    "        faceNp = np.array(faceImg,'uint8')\n",
    "        ID = int(os.path.split(imagePath)[-1].split('.')[1])\n",
    "        faces.append(faceNp)\n",
    "        print (ID,end=\"\",flush=True)\n",
    "        IDs.append(ID)\n",
    "        cv2.imshow('training',faceNp)\n",
    "        cv2.waitKey(100)\n",
    "    return np.array(IDs), faces\n",
    "\n",
    "IDs, faces = getImageWithId(path)\n",
    "#getImageWithId(path)# to print the dataset\n",
    "recognizer.train(faces,IDs)\n",
    "recognizer.save('recognizer/trainingData.yml')\n",
    "cv2.destroyAllWindows()"
   ]
  }
 ],
 "metadata": {
  "kernelspec": {
   "display_name": "Python (face)",
   "language": "python",
   "name": "face"
  },
  "language_info": {
   "codemirror_mode": {
    "name": "ipython",
    "version": 3
   },
   "file_extension": ".py",
   "mimetype": "text/x-python",
   "name": "python",
   "nbconvert_exporter": "python",
   "pygments_lexer": "ipython3",
   "version": "3.5.6"
  }
 },
 "nbformat": 4,
 "nbformat_minor": 2
}
