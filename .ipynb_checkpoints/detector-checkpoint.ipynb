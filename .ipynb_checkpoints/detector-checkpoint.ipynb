{
 "cells": [
  {
   "cell_type": "code",
   "execution_count": 1,
   "metadata": {},
   "outputs": [],
   "source": [
    "%config IMCompleter.greedy=True\n",
    "#--------------------------------\n",
    "import cv2\n",
    "import os\n",
    "import numpy as np\n",
    "faceDetect = cv2.CascadeClassifier('haarcascade_frontalface_default.xml')\n",
    "cam=cv2.VideoCapture(0)\n",
    "rec = cv2.face.createLBPHFaceRecognizer()\n",
    "rec.load('recognizer/trainingData.yml')\n",
    "id=0\n",
    "fontFace = cv2.FONT_HERSHEY_SIMPLEX\n",
    "fontScale = 1\n",
    "fontColor = (255, 255, 255)\n",
    "while True:\n",
    "    ret, img = cam.read()\n",
    "    gray = cv2.cvtColor(img,cv2.COLOR_BGR2GRAY)\n",
    "    faces = faceDetect.detectMultiScale(gray,1.3,5)\n",
    "    for(x,y,w,h) in faces:\n",
    "        cv2.rectangle(img,(x,y), (x+w, y+h), (0,0,255),2)\n",
    "        id =rec.predict(gray[y:y+h,x:x+w])\n",
    "        if id==1:id='devdas'\n",
    "        if id==3:id='michael'\n",
    "        if id==4:id='aman'\n",
    "        if id==9:id='dinesh'\n",
    "            \n",
    "        cv2.putText(img,str(id),(x,y+h),fontFace,fontScale,fontColor)\n",
    "        cv2.waitKey(100)\n",
    "    cv2.imshow(\"Face\",img)\n",
    "    cv2.waitKey(1)\n",
    "    if cv2.waitKey(1)==ord('q'):\n",
    "        break\n",
    "    #else:\n",
    "        #break\n",
    "    \n",
    "cam.release()\n",
    "cv2.destroyAllWindows()"
   ]
  }
 ],
 "metadata": {
  "kernelspec": {
   "display_name": "Python (face)",
   "language": "python",
   "name": "face"
  },
  "language_info": {
   "codemirror_mode": {
    "name": "ipython",
    "version": 3
   },
   "file_extension": ".py",
   "mimetype": "text/x-python",
   "name": "python",
   "nbconvert_exporter": "python",
   "pygments_lexer": "ipython3",
   "version": "3.5.6"
  }
 },
 "nbformat": 4,
 "nbformat_minor": 2
}
