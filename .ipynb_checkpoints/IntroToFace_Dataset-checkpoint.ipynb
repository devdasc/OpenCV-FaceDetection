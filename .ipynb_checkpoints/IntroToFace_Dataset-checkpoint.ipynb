{
 "cells": [
  {
   "cell_type": "code",
   "execution_count": 17,
   "metadata": {},
   "outputs": [
    {
     "name": "stdout",
     "output_type": "stream",
     "text": [
      "Enter user id: 1\n"
     ]
    }
   ],
   "source": [
    "%config IMCompleter.greedy=True\n",
    "#--------------------------------\n",
    "import cv2\n",
    "import os\n",
    "import numpy as np\n",
    "\n",
    "\n",
    "faceDetect = cv2.CascadeClassifier('haarcascade_frontalface_default.xml')\n",
    "cam=cv2.VideoCapture(0)\n",
    "\n",
    "id = input('Enter user id: ')\n",
    "sampleNum = 0\n",
    "while True:\n",
    "    ret, img = cam.read()\n",
    "    gray = cv2.cvtColor(img,cv2.COLOR_BGR2GRAY)\n",
    "    faces = faceDetect.detectMultiScale(gray,1.3,5)\n",
    "    for(x,y,w,h) in faces:\n",
    "        sampleNum+=1\n",
    "        cv2.imwrite(\"dataSet/User.\"+str(id)+\".\"+str(sampleNum)+\".jpg\",gray[y:y+h,x:x+w])\n",
    "        cv2.rectangle(img,(x,y), (x+w, y+h), (0,0,255),2)\n",
    "        cv2.waitKey(100)\n",
    "    cv2.imshow(\"Face\",img)\n",
    "    cv2.waitKey(1)\n",
    "    if(sampleNum >100):\n",
    "        break\n",
    "cam.release()\n",
    "cv2.destroyAllWindows()"
   ]
  }
 ],
 "metadata": {
  "kernelspec": {
   "display_name": "Python (face)",
   "language": "python",
   "name": "face"
  },
  "language_info": {
   "codemirror_mode": {
    "name": "ipython",
    "version": 3
   },
   "file_extension": ".py",
   "mimetype": "text/x-python",
   "name": "python",
   "nbconvert_exporter": "python",
   "pygments_lexer": "ipython3",
   "version": "3.5.6"
  }
 },
 "nbformat": 4,
 "nbformat_minor": 2
}
